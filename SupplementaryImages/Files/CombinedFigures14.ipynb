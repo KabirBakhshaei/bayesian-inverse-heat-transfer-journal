{
 "cells": [
  {
   "cell_type": "code",
   "execution_count": 10,
   "id": "d295d29b",
   "metadata": {},
   "outputs": [
    {
     "name": "stdout",
     "output_type": "stream",
     "text": [
      "Saved: ../Results/Figure14_combined.png\n"
     ]
    }
   ],
   "source": [
    "import os\n",
    "from PIL import Image, ImageDraw, ImageFont\n",
    "\n",
    "# image filenames (in the same folder as this script)\n",
    "img_names = [\n",
    "    \"Figure14aSnapshotCountorsGaussian.png\",\n",
    "    \"Figure14bSnapshotCountorsMultiquadric.png\",\n",
    "    \"Figure14CSnapshotCountorsTrue.png\",\n",
    "    \"Figure14dSnapshotCountorsGaussianRelative.png\",\n",
    "    \"Figure14eSnapshotCountorsMultiquadricRelative.png\",\n",
    "]\n",
    "\n",
    "labels = [\"(a)\", \"(b)\", \"(c)\", \"(d)\", \"(e)\"]\n",
    "\n",
    "# Load images\n",
    "imgs = [Image.open(n).convert(\"RGBA\") for n in img_names]\n",
    "\n",
    "# Make all images the same height (to avoid distortion, downscale to the smallest height)\n",
    "target_h = min(im.height for im in imgs)\n",
    "resized = []\n",
    "for im in imgs:\n",
    "    w = int(im.width * (target_h / im.height))\n",
    "    resized.append(im.resize((w, target_h), Image.LANCZOS))\n",
    "\n",
    "# Add a label strip at the top for the letters\n",
    "label_strip_h = 60  # adjust if you want bigger/smaller text area\n",
    "total_w = sum(im.width for im in resized)\n",
    "total_h = label_strip_h + target_h\n",
    "\n",
    "# Create canvas (transparent -> then saved as PNG)\n",
    "canvas = Image.new(\"RGBA\", (total_w, total_h), (255, 255, 255, 0))\n",
    "\n",
    "# Try to use a nicer font if available, otherwise default\n",
    "try:\n",
    "    # Common Windows font; change path if needed\n",
    "    font = ImageFont.truetype(\"arial.ttf\", 32)\n",
    "except:\n",
    "    font = ImageFont.load_default()\n",
    "\n",
    "draw = ImageDraw.Draw(canvas)\n",
    "\n",
    "# Paste images side-by-side and draw labels centered above each\n",
    "x = 0\n",
    "for im, lab in zip(resized, labels):\n",
    "    # paste image\n",
    "    canvas.paste(im, (x, label_strip_h))\n",
    "    # center label over this column\n",
    "    bbox = draw.textbbox((0, 0), lab, font=font)\n",
    "    text_w = bbox[2] - bbox[0]\n",
    "    text_h = bbox[3] - bbox[1]\n",
    "    cx = x + im.width // 2 - text_w // 2\n",
    "    cy = (label_strip_h - text_h) // 2\n",
    "    draw.text((cx, cy), lab, fill=(0, 0, 0, 255), font=font)\n",
    "    x += im.width\n",
    "\n",
    "# Ensure ../Results exists and save\n",
    "os.makedirs(\"../Results\", exist_ok=True)\n",
    "out_path = \"../Results/Figure14_combined.png\"\n",
    "canvas.save(out_path, dpi=(300, 300))\n",
    "\n",
    "print(f\"Saved: {out_path}\")\n"
   ]
  }
 ],
 "metadata": {
  "kernelspec": {
   "display_name": "base",
   "language": "python",
   "name": "python3"
  },
  "language_info": {
   "codemirror_mode": {
    "name": "ipython",
    "version": 3
   },
   "file_extension": ".py",
   "mimetype": "text/x-python",
   "name": "python",
   "nbconvert_exporter": "python",
   "pygments_lexer": "ipython3",
   "version": "3.10.9"
  }
 },
 "nbformat": 4,
 "nbformat_minor": 5
}
